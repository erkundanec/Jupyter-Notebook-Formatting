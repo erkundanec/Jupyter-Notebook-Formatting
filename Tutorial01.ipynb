{
 "cells": [
  {
   "cell_type": "markdown",
   "metadata": {},
   "source": [
    "# First tutorial\n"
   ]
  },
  {
   "cell_type": "code",
   "execution_count": 28,
   "metadata": {},
   "outputs": [],
   "source": [
    "# Load all required libraries\n",
    "import os\n",
    "import codecs\n",
    "import numpy as np\n",
    "import torch\n",
    "from matplotlib import pyplot as plt\n",
    "from torchvision import datasets\n",
    "import torch.nn as nn"
   ]
  },
  {
   "cell_type": "code",
   "execution_count": 2,
   "metadata": {},
   "outputs": [],
   "source": [
    "download = datasets.MNIST('/Users/kundankumar/Downloads/myDatabase/MNISTpytorch/',train = True, download=True)\n",
    "dataPath = '/Users/kundankumar/Downloads/myDatabase/MNISTpytorch/raw/'"
   ]
  },
  {
   "cell_type": "code",
   "execution_count": 8,
   "metadata": {},
   "outputs": [],
   "source": [
    "def parseByte(b):\n",
    "    if isinstance(b,str):\n",
    "        return ord(b)\n",
    "    return b"
   ]
  },
  {
   "cell_type": "code",
   "execution_count": 4,
   "metadata": {},
   "outputs": [],
   "source": [
    "def getInt(b):\n",
    "    return int(codecs.encode(b,'hex'),16)"
   ]
  },
  {
   "cell_type": "code",
   "execution_count": 7,
   "metadata": {},
   "outputs": [],
   "source": [
    "def readImageFile(path):\n",
    "    with open(path,'rb') as f:\n",
    "        data = f.read()\n",
    "        assert getInt(data[:4])==2051\n",
    "        length =getInt(data[4:8])\n",
    "        nRows = getInt(data[8:12])\n",
    "        nCols = getInt(data[12:16])\n",
    "        images = []\n",
    "        idx = 16\n",
    "        for l in range(length):\n",
    "            img = []\n",
    "            images.append(img)\n",
    "            for r in range(nRows):\n",
    "                row = []\n",
    "                img.append(row)\n",
    "                for c in range(nCols):\n",
    "                    row.append(parseByte(data[idx]))\n",
    "                    idx +=1\n",
    "        assert len(images) == length\n",
    "        return torch.ByteTensor(images).view(-1,784)        "
   ]
  },
  {
   "cell_type": "code",
   "execution_count": 14,
   "metadata": {},
   "outputs": [],
   "source": [
    "trainImages = readImageFile(os.path.join(dataPath,'train-images-idx3-ubyte'))\n",
    "testImages = readImageFile(os.path.join(dataPath,'t10k-images-idx3-ubyte'))"
   ]
  },
  {
   "cell_type": "code",
   "execution_count": 11,
   "metadata": {},
   "outputs": [],
   "source": [
    "def readLabelFile(path):\n",
    "    with open(path,'rb') as f:\n",
    "        data = f.read()\n",
    "        assert getInt(data[:4]) == 2049\n",
    "        length = getInt(data[4:8])\n",
    "        labels = [parseByte(b) for b in data[8:]]\n",
    "        assert len(labels) == length\n",
    "        return torch.LongTensor(labels)"
   ]
  },
  {
   "cell_type": "code",
   "execution_count": 13,
   "metadata": {},
   "outputs": [],
   "source": [
    "trainLabels = readLabelFile(os.path.join(dataPath,'train-labels-idx1-ubyte'))\n",
    "testLabels = readLabelFile(os.path.join(dataPath,'t10k-labels-idx1-ubyte'))"
   ]
  },
  {
   "cell_type": "code",
   "execution_count": 15,
   "metadata": {},
   "outputs": [
    {
     "name": "stdout",
     "output_type": "stream",
     "text": [
      "torch.Size([60000, 784])\n",
      "torch.Size([10000, 784])\n",
      "torch.Size([60000])\n",
      "torch.Size([10000])\n"
     ]
    }
   ],
   "source": [
    "# print number of training and testing images\n",
    "print(trainImages.size())\n",
    "print(testImages.size())\n",
    "print(trainLabels.size())\n",
    "print(testLabels.size())"
   ]
  },
  {
   "cell_type": "code",
   "execution_count": 22,
   "metadata": {},
   "outputs": [],
   "source": [
    "def imgShow(img):\n",
    "    img = img.view(28,28).numpy()\n",
    "    plt.figure()\n",
    "    plt.imshow(img,cmap = 'gray')\n",
    "    plt.axis('off')"
   ]
  },
  {
   "cell_type": "code",
   "execution_count": 23,
   "metadata": {},
   "outputs": [
    {
     "data": {
      "image/png": "[encoded data removed]",
      "text/plain": [
       "<matplotlib.figure.Figure at 0x1265f3150>"
      ]
     },
     "metadata": {},
     "output_type": "display_data"
    },
    {
     "data": {
      "image/png": "[encoded data removed]",
      "text/plain": [
       "<matplotlib.figure.Figure at 0x1265f30d0>"
      ]
     },
     "metadata": {},
     "output_type": "display_data"
    }
   ],
   "source": [
    "imgShow(trainImages[2,:])\n",
    "imgShow(testImages[1,:])"
   ]
  },
  {
   "cell_type": "code",
   "execution_count": 24,
   "metadata": {},
   "outputs": [
    {
     "name": "stdout",
     "output_type": "stream",
     "text": [
      "GPU is not available\n"
     ]
    }
   ],
   "source": [
    "# test GPU availability\n",
    "useGPU = torch.cuda.is_available()\n",
    "if useGPU:\n",
    "    print('GPU is available')\n",
    "else:\n",
    "    print('GPU is not available')"
   ]
  },
  {
   "cell_type": "code",
   "execution_count": 33,
   "metadata": {},
   "outputs": [],
   "source": [
    "# Define the Autoencoder\n",
    "class autoencoder(nn.Module):\n",
    "    def __init__(self):\n",
    "        super(autoencoder,self).__init__()\n",
    "        self.encoder = nn.Sequential(nn.Linear(28*28,100),nn.ReLU())\n",
    "        self.decoder = nn.Sequential(nn.Linear(100,28*28),nn.ReLU())\n",
    "        \n",
    "    def forward(self,x):\n",
    "        x = self.encoder(x)\n",
    "        x = self.decoder(x)\n",
    "        return x"
   ]
  },
  {
   "cell_type": "code",
   "execution_count": 34,
   "metadata": {},
   "outputs": [
    {
     "name": "stdout",
     "output_type": "stream",
     "text": [
      "autoencoder(\n",
      "  (encoder): Sequential(\n",
      "    (0): Linear(in_features=784, out_features=100, bias=True)\n",
      "    (1): ReLU()\n",
      "  )\n",
      "  (decoder): Sequential(\n",
      "    (0): Linear(in_features=100, out_features=784, bias=True)\n",
      "    (1): ReLU()\n",
      "  )\n",
      ")\n"
     ]
    }
   ],
   "source": [
    "net = autoencoder()\n",
    "print(net)"
   ]
  },
  {
   "cell_type": "code",
   "execution_count": 35,
   "metadata": {},
   "outputs": [],
   "source": [
    "if useGPU:\n",
    "    net = net.double().cuda()\n",
    "else:\n",
    "    net = net.double()"
   ]
  },
  {
   "cell_type": "code",
   "execution_count": 37,
   "metadata": {},
   "outputs": [],
   "source": [
    "# Store initial weights in a variable\n",
    "import copy\n",
    "initWeights = copy.deepcopy(net.encoder[0].weight.data)"
   ]
  },
  {
   "cell_type": "code",
   "execution_count": 39,
   "metadata": {},
   "outputs": [],
   "source": [
    "# define Criterion function and Optimizer\n",
    "import torch.optim as optim\n",
    "criterion = nn.MSELoss()\n",
    "optimizer = optim.SGD(net.parameters(),lr = 0.5,momentum = 0.9)"
   ]
  },
  {
   "cell_type": "markdown",
   "metadata": {},
   "source": [
    "# Train Autoencoder"
   ]
  },
  {
   "cell_type": "code",
   "execution_count": 52,
   "metadata": {},
   "outputs": [
    {
     "name": "stdout",
     "output_type": "stream",
     "text": [
      "At Iteration : 1 / 10  ;  Mean-Squared Error : 0.001902\n",
      "At Iteration : 2 / 10  ;  Mean-Squared Error : 0.001891\n",
      "At Iteration : 3 / 10  ;  Mean-Squared Error : 0.001874\n",
      "At Iteration : 4 / 10  ;  Mean-Squared Error : 0.001852\n",
      "At Iteration : 5 / 10  ;  Mean-Squared Error : 0.001827\n",
      "At Iteration : 6 / 10  ;  Mean-Squared Error : 0.001801\n",
      "At Iteration : 7 / 10  ;  Mean-Squared Error : 0.001773\n",
      "At Iteration : 8 / 10  ;  Mean-Squared Error : 0.001745\n",
      "At Iteration : 9 / 10  ;  Mean-Squared Error : 0.001717\n",
      "At Iteration : 10 / 10  ;  Mean-Squared Error : 0.001687\n"
     ]
    }
   ],
   "source": [
    "from torch.autograd import Variable\n",
    "iterations = 10\n",
    "batchSize = 1000\n",
    "for epoch in range(iterations):\n",
    "    runningLoss = 0.0\n",
    "    for i in range(trainImages.size()[0]/batchSize):\n",
    "        inputs = torch.index_select(trainImages,0,torch.linspace(i*batchSize,\\\n",
    "                                        (i+1)*batchSize-1,steps = batchSize).long()).double()\n",
    "        \n",
    "    inputs = inputs/255\n",
    "    # wrap them in Variable\n",
    "    if useGPU:\n",
    "        inputs = Variable(inputs).cuda()\n",
    "    else:\n",
    "        inputs = Variable(inputs)\n",
    "                           \n",
    "    optimizer.zero_grad()        \n",
    "    outputs = net(inputs)\n",
    "    loss = criterion(outputs,inputs)\n",
    "    loss.backward()\n",
    "    optimizer.step()\n",
    "    \n",
    "    runningLoss += loss.data.item()\n",
    "    print('At Iteration : %d / %d  ;  Mean-Squared Error : %f'%(epoch + 1,iterations,\\\n",
    "                                                                        runningLoss/(60000/batchSize)))\n",
    "                           \n",
    "                           "
   ]
  },
  {
   "cell_type": "code",
   "execution_count": null,
   "metadata": {},
   "outputs": [],
   "source": []
  }
 ],
 "metadata": {
  "kernelspec": {
   "display_name": "Python 2",
   "language": "python",
   "name": "python2"
  },
  "language_info": {
   "codemirror_mode": {
    "name": "ipython",
    "version": 2
   },
   "file_extension": ".py",
   "mimetype": "text/x-python",
   "name": "python",
   "nbconvert_exporter": "python",
   "pygments_lexer": "ipython2",
   "version": "2.7.15"
  }
 },
 "nbformat": 4,
 "nbformat_minor": 2
}
